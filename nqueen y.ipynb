{
 "cells": [
  {
   "cell_type": "code",
   "execution_count": 11,
   "id": "2181650f",
   "metadata": {},
   "outputs": [
    {
     "name": "stdout",
     "output_type": "stream",
     "text": [
      "enter the value of n: 4\n",
      "[0, 0, 0, 0]\n",
      "[0, 0, 0, 0]\n",
      "[0, 0, 0, 0]\n",
      "[0, 0, 0, 0]\n",
      "required solution is: \n",
      "[0, 1, 0, 0]\n",
      "[0, 0, 0, 1]\n",
      "[1, 0, 0, 0]\n",
      "[0, 0, 1, 0]\n"
     ]
    }
   ],
   "source": [
    "n=int(input(\"enter the value of n: \"))\n",
    "board=[[0 for i in range(n)] for i in range(n)]\n",
    "\n",
    "for row in board:\n",
    "    print(row)\n",
    "\n",
    "def check_col(board,row,column):\n",
    "    for i in range(row,-1,-1):\n",
    "        if board[i][column]==1:\n",
    "            return False\n",
    "    return True\n",
    "\n",
    "def check_diagonal(board,row,column):\n",
    "    for i,j in zip(range(row,-1,-1),range(column,-1,-1)):\n",
    "        if board[i][j]==1:\n",
    "            return False\n",
    "    \n",
    "    for i,j in zip(range(row,-1,-1),range(column,n)):\n",
    "        if board[i][j]==1:\n",
    "            return False\n",
    "    return True\n",
    "#backtracking\n",
    "\n",
    "def nqn(board,row):\n",
    "    if row==n:\n",
    "        return True\n",
    "    \n",
    "    for i in range(n):\n",
    "        if(check_col(board,row,i)==True and check_diagonal(board,row,i)==True):\n",
    "            board[row][i]=1\n",
    "            if nqn(board,row+1):\n",
    "                return True\n",
    "            board[row][i]=0\n",
    "            \n",
    "    return False\n",
    "nqn(board,0)\n",
    "print(\"required solution is: \")\n",
    "for row in board:\n",
    "    print(row)\n"
   ]
  },
  {
   "cell_type": "code",
   "execution_count": 17,
   "id": "3294d3b7",
   "metadata": {},
   "outputs": [
    {
     "name": "stdout",
     "output_type": "stream",
     "text": [
      "0\n",
      "2\n",
      "4\n"
     ]
    }
   ],
   "source": [
    "for i in range(0,5,2):\n",
    "    print (i)"
   ]
  },
  {
   "cell_type": "code",
   "execution_count": null,
   "id": "b7fa70bc",
   "metadata": {},
   "outputs": [],
   "source": []
  },
  {
   "cell_type": "code",
   "execution_count": null,
   "id": "ae3b9b2d",
   "metadata": {},
   "outputs": [],
   "source": []
  }
 ],
 "metadata": {
  "kernelspec": {
   "display_name": "Python 3 (ipykernel)",
   "language": "python",
   "name": "python3"
  },
  "language_info": {
   "codemirror_mode": {
    "name": "ipython",
    "version": 3
   },
   "file_extension": ".py",
   "mimetype": "text/x-python",
   "name": "python",
   "nbconvert_exporter": "python",
   "pygments_lexer": "ipython3",
   "version": "3.10.9"
  }
 },
 "nbformat": 4,
 "nbformat_minor": 5
}
